{
 "cells": [
  {
   "cell_type": "markdown",
   "metadata": {},
   "source": [
    "<h1 style = 'text-align: center;'>United States Wildlife</h1>"
   ]
  },
  {
   "cell_type": "markdown",
   "metadata": {},
   "source": [
    "My topic for the final project in DATS6103 is to do data mining about U.S Wildlife.\n",
    "\n",
    "The project will contain two main parts: scraping the data and analyis.\n",
    "\n",
    "In this section, I will perform the scraping process. The website I selected to extract data is https://www.fws.gov/\n",
    " (U.S Fish and Wildlife Service)."
   ]
  },
  {
   "cell_type": "code",
   "execution_count": 1,
   "metadata": {},
   "outputs": [],
   "source": [
    "#import libararies\n",
    "import requests\n",
    "import urllib.request\n",
    "import time\n",
    "from bs4 import BeautifulSoup\n",
    "import pandas as pd\n",
    "import numpy as np\n"
   ]
  },
  {
   "cell_type": "markdown",
   "metadata": {},
   "source": [
    "## Scrape the data from https://www.fws.gov/"
   ]
  },
  {
   "cell_type": "markdown",
   "metadata": {},
   "source": [
    "\n",
    "The link to search species is: \n",
    "https://ecos.fws.gov/ecp0/reports/ad-hoc-species-report-input\n",
    "\n",
    "After we select query options in the search page, we will navigate to this base url:\n",
    "https://ecos.fws.gov/ecp0/reports/ad-hoc-species-report\n",
    "\n",
    "No matter which query options we choose, the result will be the page above. Therefore, when we use request the url, the information we can obtain are only scientific name and common name. To retrieve other attributes such as location, status, group, family and date listed, we need to figure out another way.\n",
    "\n",
    "After exploring the search page, I found out that we can set the name of the attribute we want to retrieve \"on\" and add it to the base url. The result website will include the information we need in its table."
   ]
  },
  {
   "cell_type": "code",
   "execution_count": 2,
   "metadata": {},
   "outputs": [],
   "source": [
    "base_url =\"https://ecos.fws.gov/ecp0/reports/ad-hoc-species-report\"\n",
    "\n",
    "listUSA = \"&mapstatus=1\"  #choose species in United States\n",
    "status = \"?fstatus=on\"    #show status\n",
    "group = \"&fgroup=on\"      #show taxonomic group\n",
    "family = \"&ffamily=on\"    #show family\n",
    "region = \"&fcurrdist=on\"  #show location in U.S\n",
    "date = \"&flistingdate=on\" #show first date listed\n",
    "grouptype = \"&fvip=on\"    #show group type\n",
    "\n",
    "\n",
    "#add all filter options to the base url\n",
    "url = base_url + status + group + family + region + date + grouptype + listUSA \n",
    "\n",
    "\n"
   ]
  },
  {
   "cell_type": "code",
   "execution_count": 3,
   "metadata": {},
   "outputs": [
    {
     "data": {
      "text/plain": [
       "'https://ecos.fws.gov/ecp0/reports/ad-hoc-species-report?fstatus=on&fgroup=on&ffamily=on&fcurrdist=on&flistingdate=on&fvip=on&mapstatus=1'"
      ]
     },
     "execution_count": 3,
     "metadata": {},
     "output_type": "execute_result"
    }
   ],
   "source": [
    "url #here is the new url that contains all information we need for analysis"
   ]
  },
  {
   "cell_type": "markdown",
   "metadata": {},
   "source": [
    "## Scrape the table in the page\n",
    "\n"
   ]
  },
  {
   "cell_type": "markdown",
   "metadata": {},
   "source": [
    "\n",
    "In the next parts, we will scrape the table in the result page and save it to a dataframe.\n",
    "\n",
    "The table will contain 8 columns corresponding to 8 attributes: Scientific Name, Common Name, Region/State, Family, First Listed Date, Taxonomic Group, Listing Status, Group Type."
   ]
  },
  {
   "cell_type": "code",
   "execution_count": 4,
   "metadata": {},
   "outputs": [],
   "source": [
    "html = requests.get(url) \n",
    "\n"
   ]
  },
  {
   "cell_type": "code",
   "execution_count": 5,
   "metadata": {},
   "outputs": [
    {
     "data": {
      "text/plain": [
       "<Response [200]>"
      ]
     },
     "execution_count": 5,
     "metadata": {},
     "output_type": "execute_result"
    }
   ],
   "source": [
    "html"
   ]
  },
  {
   "cell_type": "code",
   "execution_count": 6,
   "metadata": {},
   "outputs": [],
   "source": [
    "soup = BeautifulSoup(html.content, 'lxml')"
   ]
  },
  {
   "cell_type": "code",
   "execution_count": 7,
   "metadata": {},
   "outputs": [],
   "source": [
    "table = soup.find(\"table\") #find the table"
   ]
  },
  {
   "cell_type": "code",
   "execution_count": 8,
   "metadata": {},
   "outputs": [],
   "source": [
    "rows = table.find_all(\"tr\") #find all the rows in the table. Each row represents a species"
   ]
  },
  {
   "cell_type": "code",
   "execution_count": 9,
   "metadata": {},
   "outputs": [],
   "source": [
    "#create empty list to store dataframe as an element  \n",
    "species = []\n",
    "\n",
    "for row in rows:\n",
    "    temp = []\n",
    "    cells = row.find_all(\"td\") #find all columns in each row. We will have 8 columns for each row\n",
    "    \n",
    "    if len(cells) == 8: #if a row has 8 columns then function next queries\n",
    "                        #It may be not necessary, just to make sure no distinguished row exits in the table\n",
    "            \n",
    "            temp.append([item.text for item in cells]) #save the columns into a list called temp\n",
    "    \n",
    "    #temp contains only 1 item and this item is also a list, each element in the item is a column data \n",
    "    #Later when we convert temp to a dataframe, the dataframe will contain 8 columns and 1 row\n",
    "    \n",
    "    species.append(pd.DataFrame(temp)) #convert temp to a dataframe\n",
    "                                       #then save the dataframe into the empty list we created\n",
    "                                       #after the for-loop, we obtain a list of many dataframes"
   ]
  },
  {
   "cell_type": "code",
   "execution_count": 10,
   "metadata": {},
   "outputs": [
    {
     "data": {
      "text/plain": [
       "[Empty DataFrame\n",
       " Columns: []\n",
       " Index: [],\n",
       "                0           1        2         3   4                    5  \\\n",
       " 0  Abies fraseri  Fraser fir  NC, VA;  Pinaceae  NA  Conifers and Cycads   \n",
       " \n",
       "             6  7  \n",
       " 0  Not Listed  P  ,\n",
       "                      0                     1    2         3   4        5  \\\n",
       " 0  Ablautus schlingeri  Oso Flaco robber fly  CA;  Asilidae  NA  Insects   \n",
       " \n",
       "             6  7  \n",
       " 0  Not Listed  I  ,\n",
       "                 0                             1    2              3   4  \\\n",
       " 0  Abronia alpina  Ramshaw Meadows sand-verbena  CA;  Nyctaginaceae  NA   \n",
       " \n",
       "                   5           6  7  \n",
       " 0  Flowering Plants  Not Listed  P  ,\n",
       "                    0                         1 2              3   4  \\\n",
       " 0  Abronia ammophila  Yellowstone Sand Verbena    Nyctaginaceae  NA   \n",
       " \n",
       "                   5           6  7  \n",
       " 0  Flowering Plants  Not Listed  P  ]"
      ]
     },
     "execution_count": 10,
     "metadata": {},
     "output_type": "execute_result"
    }
   ],
   "source": [
    "species[:5] #lets have a look at the list species\n"
   ]
  },
  {
   "cell_type": "code",
   "execution_count": 11,
   "metadata": {},
   "outputs": [
    {
     "data": {
      "text/html": [
       "<div>\n",
       "<style scoped>\n",
       "    .dataframe tbody tr th:only-of-type {\n",
       "        vertical-align: middle;\n",
       "    }\n",
       "\n",
       "    .dataframe tbody tr th {\n",
       "        vertical-align: top;\n",
       "    }\n",
       "\n",
       "    .dataframe thead th {\n",
       "        text-align: right;\n",
       "    }\n",
       "</style>\n",
       "<table border=\"1\" class=\"dataframe\">\n",
       "  <thead>\n",
       "    <tr style=\"text-align: right;\">\n",
       "      <th></th>\n",
       "      <th>0</th>\n",
       "      <th>1</th>\n",
       "      <th>2</th>\n",
       "      <th>3</th>\n",
       "      <th>4</th>\n",
       "      <th>5</th>\n",
       "      <th>6</th>\n",
       "      <th>7</th>\n",
       "    </tr>\n",
       "  </thead>\n",
       "  <tbody>\n",
       "    <tr>\n",
       "      <td>0</td>\n",
       "      <td>Accipiter cooperii</td>\n",
       "      <td>Cooper's hawk</td>\n",
       "      <td>CA;</td>\n",
       "      <td>Accipitridae</td>\n",
       "      <td>NA</td>\n",
       "      <td>Birds</td>\n",
       "      <td>Not Listed</td>\n",
       "      <td>V</td>\n",
       "    </tr>\n",
       "  </tbody>\n",
       "</table>\n",
       "</div>"
      ],
      "text/plain": [
       "                    0              1    2             3   4      5  \\\n",
       "0  Accipiter cooperii  Cooper's hawk  CA;  Accipitridae  NA  Birds   \n",
       "\n",
       "            6  7  \n",
       "0  Not Listed  V  "
      ]
     },
     "execution_count": 11,
     "metadata": {},
     "output_type": "execute_result"
    }
   ],
   "source": [
    "species[26] #here is a random element in the list and it is a dataframe"
   ]
  },
  {
   "cell_type": "markdown",
   "metadata": {},
   "source": [
    "## Save the scraped data into a dataframe"
   ]
  },
  {
   "cell_type": "code",
   "execution_count": 12,
   "metadata": {},
   "outputs": [],
   "source": [
    "df = pd.concat(species) #combine all the dataframes in the list into a dataframe called df\n"
   ]
  },
  {
   "cell_type": "code",
   "execution_count": 13,
   "metadata": {},
   "outputs": [
    {
     "data": {
      "text/html": [
       "<div>\n",
       "<style scoped>\n",
       "    .dataframe tbody tr th:only-of-type {\n",
       "        vertical-align: middle;\n",
       "    }\n",
       "\n",
       "    .dataframe tbody tr th {\n",
       "        vertical-align: top;\n",
       "    }\n",
       "\n",
       "    .dataframe thead th {\n",
       "        text-align: right;\n",
       "    }\n",
       "</style>\n",
       "<table border=\"1\" class=\"dataframe\">\n",
       "  <thead>\n",
       "    <tr style=\"text-align: right;\">\n",
       "      <th></th>\n",
       "      <th>0</th>\n",
       "      <th>1</th>\n",
       "      <th>2</th>\n",
       "      <th>3</th>\n",
       "      <th>4</th>\n",
       "      <th>5</th>\n",
       "      <th>6</th>\n",
       "      <th>7</th>\n",
       "    </tr>\n",
       "  </thead>\n",
       "  <tbody>\n",
       "    <tr>\n",
       "      <td>0</td>\n",
       "      <td>Abies fraseri</td>\n",
       "      <td>Fraser fir</td>\n",
       "      <td>NC, VA;</td>\n",
       "      <td>Pinaceae</td>\n",
       "      <td>NA</td>\n",
       "      <td>Conifers and Cycads</td>\n",
       "      <td>Not Listed</td>\n",
       "      <td>P</td>\n",
       "    </tr>\n",
       "    <tr>\n",
       "      <td>0</td>\n",
       "      <td>Ablautus schlingeri</td>\n",
       "      <td>Oso Flaco robber fly</td>\n",
       "      <td>CA;</td>\n",
       "      <td>Asilidae</td>\n",
       "      <td>NA</td>\n",
       "      <td>Insects</td>\n",
       "      <td>Not Listed</td>\n",
       "      <td>I</td>\n",
       "    </tr>\n",
       "    <tr>\n",
       "      <td>0</td>\n",
       "      <td>Abronia alpina</td>\n",
       "      <td>Ramshaw Meadows sand-verbena</td>\n",
       "      <td>CA;</td>\n",
       "      <td>Nyctaginaceae</td>\n",
       "      <td>NA</td>\n",
       "      <td>Flowering Plants</td>\n",
       "      <td>Not Listed</td>\n",
       "      <td>P</td>\n",
       "    </tr>\n",
       "    <tr>\n",
       "      <td>0</td>\n",
       "      <td>Abronia ammophila</td>\n",
       "      <td>Yellowstone Sand Verbena</td>\n",
       "      <td></td>\n",
       "      <td>Nyctaginaceae</td>\n",
       "      <td>NA</td>\n",
       "      <td>Flowering Plants</td>\n",
       "      <td>Not Listed</td>\n",
       "      <td>P</td>\n",
       "    </tr>\n",
       "    <tr>\n",
       "      <td>0</td>\n",
       "      <td>Abronia ammophila var.</td>\n",
       "      <td>No common name</td>\n",
       "      <td></td>\n",
       "      <td>Nyctaginaceae</td>\n",
       "      <td>NA</td>\n",
       "      <td>Flowering Plants</td>\n",
       "      <td>Not Listed</td>\n",
       "      <td>P</td>\n",
       "    </tr>\n",
       "    <tr>\n",
       "      <td>0</td>\n",
       "      <td>Abronia ammphila</td>\n",
       "      <td>[Unnamed] sand-verbena</td>\n",
       "      <td>WY;</td>\n",
       "      <td>Nyctaginaceae</td>\n",
       "      <td>NA</td>\n",
       "      <td>Flowering Plants</td>\n",
       "      <td>Not Listed</td>\n",
       "      <td>P</td>\n",
       "    </tr>\n",
       "    <tr>\n",
       "      <td>0</td>\n",
       "      <td>Abronia bigelovii</td>\n",
       "      <td>[Unnamed] sand-verbena</td>\n",
       "      <td>NM;</td>\n",
       "      <td>Nyctaginaceae</td>\n",
       "      <td>NA</td>\n",
       "      <td>Flowering Plants</td>\n",
       "      <td>Not Listed</td>\n",
       "      <td>P</td>\n",
       "    </tr>\n",
       "    <tr>\n",
       "      <td>0</td>\n",
       "      <td>Abronia macrocarpa</td>\n",
       "      <td>Large-fruited sand-verbena</td>\n",
       "      <td>TX; U.S.A. (TX)</td>\n",
       "      <td>Nyctaginaceae</td>\n",
       "      <td>Sep 28, 1988</td>\n",
       "      <td>Flowering Plants</td>\n",
       "      <td>Endangered</td>\n",
       "      <td>P</td>\n",
       "    </tr>\n",
       "    <tr>\n",
       "      <td>0</td>\n",
       "      <td>Abronia turbinata</td>\n",
       "      <td>[Unnamed] sand-verbena</td>\n",
       "      <td>NV;</td>\n",
       "      <td>Nyctaginaceae</td>\n",
       "      <td>NA</td>\n",
       "      <td>Flowering Plants</td>\n",
       "      <td>Not Listed</td>\n",
       "      <td>P</td>\n",
       "    </tr>\n",
       "    <tr>\n",
       "      <td>0</td>\n",
       "      <td>Abronia umbellata acutalata</td>\n",
       "      <td>Rose-purple sand-verbena</td>\n",
       "      <td>WA; Possibly extinct,last observed in 1940</td>\n",
       "      <td>Nyctaginaceae</td>\n",
       "      <td>NA</td>\n",
       "      <td>Flowering Plants</td>\n",
       "      <td>Not Listed</td>\n",
       "      <td>P</td>\n",
       "    </tr>\n",
       "  </tbody>\n",
       "</table>\n",
       "</div>"
      ],
      "text/plain": [
       "                             0                             1  \\\n",
       "0                Abies fraseri                    Fraser fir   \n",
       "0          Ablautus schlingeri          Oso Flaco robber fly   \n",
       "0               Abronia alpina  Ramshaw Meadows sand-verbena   \n",
       "0            Abronia ammophila      Yellowstone Sand Verbena   \n",
       "0       Abronia ammophila var.                No common name   \n",
       "0             Abronia ammphila        [Unnamed] sand-verbena   \n",
       "0            Abronia bigelovii        [Unnamed] sand-verbena   \n",
       "0           Abronia macrocarpa    Large-fruited sand-verbena   \n",
       "0            Abronia turbinata        [Unnamed] sand-verbena   \n",
       "0  Abronia umbellata acutalata      Rose-purple sand-verbena   \n",
       "\n",
       "                                            2              3             4  \\\n",
       "0                                     NC, VA;       Pinaceae            NA   \n",
       "0                                         CA;       Asilidae            NA   \n",
       "0                                         CA;  Nyctaginaceae            NA   \n",
       "0                                              Nyctaginaceae            NA   \n",
       "0                                              Nyctaginaceae            NA   \n",
       "0                                         WY;  Nyctaginaceae            NA   \n",
       "0                                         NM;  Nyctaginaceae            NA   \n",
       "0                             TX; U.S.A. (TX)  Nyctaginaceae  Sep 28, 1988   \n",
       "0                                         NV;  Nyctaginaceae            NA   \n",
       "0  WA; Possibly extinct,last observed in 1940  Nyctaginaceae            NA   \n",
       "\n",
       "                     5             6  7  \n",
       "0  Conifers and Cycads    Not Listed  P  \n",
       "0              Insects    Not Listed  I  \n",
       "0     Flowering Plants    Not Listed  P  \n",
       "0     Flowering Plants    Not Listed  P  \n",
       "0     Flowering Plants    Not Listed  P  \n",
       "0     Flowering Plants    Not Listed  P  \n",
       "0     Flowering Plants    Not Listed  P  \n",
       "0     Flowering Plants    Endangered  P  \n",
       "0     Flowering Plants    Not Listed  P  \n",
       "0     Flowering Plants    Not Listed  P  "
      ]
     },
     "execution_count": 13,
     "metadata": {},
     "output_type": "execute_result"
    }
   ],
   "source": [
    "df.head(10)   #let's see out dataframe df\n",
    "              #df has 8732 rows representing 8732 species. The number is the same as shown in the result page"
   ]
  },
  {
   "cell_type": "code",
   "execution_count": 14,
   "metadata": {},
   "outputs": [],
   "source": [
    "df.drop_duplicates(inplace = True) #the result page still contains some duplicates and we need to remove them\n",
    "\n",
    "colnames = [\"Scientific Name\",\"Common Name\",\"Region\",\"Family\",\"First Listed\",\n",
    "            \"Taxonomic Group\",\"Status\",\"Type\"] #a list of column names that we will use\n",
    "\n",
    "df.columns = colnames  #name our columns\n",
    "df.index = range(len(df.index))  #reindex"
   ]
  },
  {
   "cell_type": "code",
   "execution_count": 15,
   "metadata": {},
   "outputs": [
    {
     "data": {
      "text/html": [
       "<div>\n",
       "<style scoped>\n",
       "    .dataframe tbody tr th:only-of-type {\n",
       "        vertical-align: middle;\n",
       "    }\n",
       "\n",
       "    .dataframe tbody tr th {\n",
       "        vertical-align: top;\n",
       "    }\n",
       "\n",
       "    .dataframe thead th {\n",
       "        text-align: right;\n",
       "    }\n",
       "</style>\n",
       "<table border=\"1\" class=\"dataframe\">\n",
       "  <thead>\n",
       "    <tr style=\"text-align: right;\">\n",
       "      <th></th>\n",
       "      <th>Scientific Name</th>\n",
       "      <th>Common Name</th>\n",
       "      <th>Region</th>\n",
       "      <th>Family</th>\n",
       "      <th>First Listed</th>\n",
       "      <th>Taxonomic Group</th>\n",
       "      <th>Status</th>\n",
       "      <th>Type</th>\n",
       "    </tr>\n",
       "  </thead>\n",
       "  <tbody>\n",
       "    <tr>\n",
       "      <td>0</td>\n",
       "      <td>Abies fraseri</td>\n",
       "      <td>Fraser fir</td>\n",
       "      <td>NC, VA;</td>\n",
       "      <td>Pinaceae</td>\n",
       "      <td>NA</td>\n",
       "      <td>Conifers and Cycads</td>\n",
       "      <td>Not Listed</td>\n",
       "      <td>P</td>\n",
       "    </tr>\n",
       "    <tr>\n",
       "      <td>1</td>\n",
       "      <td>Ablautus schlingeri</td>\n",
       "      <td>Oso Flaco robber fly</td>\n",
       "      <td>CA;</td>\n",
       "      <td>Asilidae</td>\n",
       "      <td>NA</td>\n",
       "      <td>Insects</td>\n",
       "      <td>Not Listed</td>\n",
       "      <td>I</td>\n",
       "    </tr>\n",
       "    <tr>\n",
       "      <td>2</td>\n",
       "      <td>Abronia alpina</td>\n",
       "      <td>Ramshaw Meadows sand-verbena</td>\n",
       "      <td>CA;</td>\n",
       "      <td>Nyctaginaceae</td>\n",
       "      <td>NA</td>\n",
       "      <td>Flowering Plants</td>\n",
       "      <td>Not Listed</td>\n",
       "      <td>P</td>\n",
       "    </tr>\n",
       "    <tr>\n",
       "      <td>3</td>\n",
       "      <td>Abronia ammophila</td>\n",
       "      <td>Yellowstone Sand Verbena</td>\n",
       "      <td></td>\n",
       "      <td>Nyctaginaceae</td>\n",
       "      <td>NA</td>\n",
       "      <td>Flowering Plants</td>\n",
       "      <td>Not Listed</td>\n",
       "      <td>P</td>\n",
       "    </tr>\n",
       "    <tr>\n",
       "      <td>4</td>\n",
       "      <td>Abronia ammophila var.</td>\n",
       "      <td>No common name</td>\n",
       "      <td></td>\n",
       "      <td>Nyctaginaceae</td>\n",
       "      <td>NA</td>\n",
       "      <td>Flowering Plants</td>\n",
       "      <td>Not Listed</td>\n",
       "      <td>P</td>\n",
       "    </tr>\n",
       "    <tr>\n",
       "      <td>5</td>\n",
       "      <td>Abronia ammphila</td>\n",
       "      <td>[Unnamed] sand-verbena</td>\n",
       "      <td>WY;</td>\n",
       "      <td>Nyctaginaceae</td>\n",
       "      <td>NA</td>\n",
       "      <td>Flowering Plants</td>\n",
       "      <td>Not Listed</td>\n",
       "      <td>P</td>\n",
       "    </tr>\n",
       "    <tr>\n",
       "      <td>6</td>\n",
       "      <td>Abronia bigelovii</td>\n",
       "      <td>[Unnamed] sand-verbena</td>\n",
       "      <td>NM;</td>\n",
       "      <td>Nyctaginaceae</td>\n",
       "      <td>NA</td>\n",
       "      <td>Flowering Plants</td>\n",
       "      <td>Not Listed</td>\n",
       "      <td>P</td>\n",
       "    </tr>\n",
       "    <tr>\n",
       "      <td>7</td>\n",
       "      <td>Abronia macrocarpa</td>\n",
       "      <td>Large-fruited sand-verbena</td>\n",
       "      <td>TX; U.S.A. (TX)</td>\n",
       "      <td>Nyctaginaceae</td>\n",
       "      <td>Sep 28, 1988</td>\n",
       "      <td>Flowering Plants</td>\n",
       "      <td>Endangered</td>\n",
       "      <td>P</td>\n",
       "    </tr>\n",
       "    <tr>\n",
       "      <td>8</td>\n",
       "      <td>Abronia turbinata</td>\n",
       "      <td>[Unnamed] sand-verbena</td>\n",
       "      <td>NV;</td>\n",
       "      <td>Nyctaginaceae</td>\n",
       "      <td>NA</td>\n",
       "      <td>Flowering Plants</td>\n",
       "      <td>Not Listed</td>\n",
       "      <td>P</td>\n",
       "    </tr>\n",
       "    <tr>\n",
       "      <td>9</td>\n",
       "      <td>Abronia umbellata acutalata</td>\n",
       "      <td>Rose-purple sand-verbena</td>\n",
       "      <td>WA; Possibly extinct,last observed in 1940</td>\n",
       "      <td>Nyctaginaceae</td>\n",
       "      <td>NA</td>\n",
       "      <td>Flowering Plants</td>\n",
       "      <td>Not Listed</td>\n",
       "      <td>P</td>\n",
       "    </tr>\n",
       "  </tbody>\n",
       "</table>\n",
       "</div>"
      ],
      "text/plain": [
       "               Scientific Name                   Common Name  \\\n",
       "0                Abies fraseri                    Fraser fir   \n",
       "1          Ablautus schlingeri          Oso Flaco robber fly   \n",
       "2               Abronia alpina  Ramshaw Meadows sand-verbena   \n",
       "3            Abronia ammophila      Yellowstone Sand Verbena   \n",
       "4       Abronia ammophila var.                No common name   \n",
       "5             Abronia ammphila        [Unnamed] sand-verbena   \n",
       "6            Abronia bigelovii        [Unnamed] sand-verbena   \n",
       "7           Abronia macrocarpa    Large-fruited sand-verbena   \n",
       "8            Abronia turbinata        [Unnamed] sand-verbena   \n",
       "9  Abronia umbellata acutalata      Rose-purple sand-verbena   \n",
       "\n",
       "                                       Region         Family  First Listed  \\\n",
       "0                                     NC, VA;       Pinaceae            NA   \n",
       "1                                         CA;       Asilidae            NA   \n",
       "2                                         CA;  Nyctaginaceae            NA   \n",
       "3                                              Nyctaginaceae            NA   \n",
       "4                                              Nyctaginaceae            NA   \n",
       "5                                         WY;  Nyctaginaceae            NA   \n",
       "6                                         NM;  Nyctaginaceae            NA   \n",
       "7                             TX; U.S.A. (TX)  Nyctaginaceae  Sep 28, 1988   \n",
       "8                                         NV;  Nyctaginaceae            NA   \n",
       "9  WA; Possibly extinct,last observed in 1940  Nyctaginaceae            NA   \n",
       "\n",
       "       Taxonomic Group        Status Type  \n",
       "0  Conifers and Cycads    Not Listed    P  \n",
       "1              Insects    Not Listed    I  \n",
       "2     Flowering Plants    Not Listed    P  \n",
       "3     Flowering Plants    Not Listed    P  \n",
       "4     Flowering Plants    Not Listed    P  \n",
       "5     Flowering Plants    Not Listed    P  \n",
       "6     Flowering Plants    Not Listed    P  \n",
       "7     Flowering Plants    Endangered    P  \n",
       "8     Flowering Plants    Not Listed    P  \n",
       "9     Flowering Plants    Not Listed    P  "
      ]
     },
     "execution_count": 15,
     "metadata": {},
     "output_type": "execute_result"
    }
   ],
   "source": [
    "df.head(10)"
   ]
  },
  {
   "cell_type": "markdown",
   "metadata": {},
   "source": [
    "## Save the data into a CSV file"
   ]
  },
  {
   "cell_type": "markdown",
   "metadata": {},
   "source": [
    "In the final step, I will save my scraped data into a csv file"
   ]
  },
  {
   "cell_type": "code",
   "execution_count": 16,
   "metadata": {},
   "outputs": [],
   "source": [
    "df.to_csv(\"US.Wildlife.csv\", sep='\\t') # save it in a CSV file"
   ]
  }
 ],
 "metadata": {
  "kernelspec": {
   "display_name": "Python 3",
   "language": "python",
   "name": "python3"
  },
  "language_info": {
   "codemirror_mode": {
    "name": "ipython",
    "version": 3
   },
   "file_extension": ".py",
   "mimetype": "text/x-python",
   "name": "python",
   "nbconvert_exporter": "python",
   "pygments_lexer": "ipython3",
   "version": "3.7.4"
  }
 },
 "nbformat": 4,
 "nbformat_minor": 2
}
